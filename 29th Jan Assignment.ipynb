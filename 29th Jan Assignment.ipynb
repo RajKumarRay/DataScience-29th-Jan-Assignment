{
 "cells": [
  {
   "cell_type": "markdown",
   "id": "6f880a7c-09dc-4c83-858e-64338139ae82",
   "metadata": {},
   "source": [
    "Quetion 1:\n",
    "Who developed Python Programming Language?\n",
    "\n",
    "Answer:\n",
    "Python was created by Guido van Rossum, and released in 1991."
   ]
  },
  {
   "cell_type": "markdown",
   "id": "d2a7c1d6-3187-4f35-928e-2e534b1487af",
   "metadata": {},
   "source": [
    "Quetion 2:\n",
    "Which type of programming does python support?\n",
    "\n",
    "Answer:\n",
    "Python is an interpreted programming language, supporting object-oriented, structured, and functional programming."
   ]
  },
  {
   "cell_type": "markdown",
   "id": "4b788bd3-c6f1-4844-bfb9-f9de4139ed53",
   "metadata": {},
   "source": [
    "Quetion 3:\n",
    "Is python case sensitive while dealing with identifiers?\n",
    "\n",
    "Answer:\n",
    "Yes. Python is case sensitive "
   ]
  },
  {
   "cell_type": "markdown",
   "id": "6741f335-ea8b-43a4-adf6-b90d19523194",
   "metadata": {},
   "source": [
    "Quetion 4:\n",
    "What is the correct extension of python file?\n",
    "\n",
    "Answer:\n",
    "The correct extension is .py."
   ]
  },
  {
   "cell_type": "markdown",
   "id": "127a3611-a9f2-4186-a45b-fa94f6842496",
   "metadata": {},
   "source": [
    "Quetion 5:\n",
    "Is Python code compiled or Interpreted?\n",
    "\n",
    "Answer:\n",
    "Python is both compiled as well as an interpreted language, which means when we run a python code, it is first compiled and then interpreted line by line."
   ]
  },
  {
   "cell_type": "markdown",
   "id": "92b15366-c5c9-4b8c-9ba3-1f09995eb754",
   "metadata": {},
   "source": [
    "Quetion 6:\n",
    "Name a few blocks of code used to define in python language?\n",
    "\n",
    "Answer:"
   ]
  },
  {
   "cell_type": "code",
   "execution_count": 1,
   "id": "34cec3bb-b78e-426e-87e4-22629f70118e",
   "metadata": {},
   "outputs": [
    {
     "name": "stdout",
     "output_type": "stream",
     "text": [
      "1\n",
      "2\n",
      "3\n",
      "4\n",
      "5\n"
     ]
    }
   ],
   "source": [
    "a=[1,2,3,4,5]\n",
    "for i in a:\n",
    "    print(i)"
   ]
  },
  {
   "cell_type": "markdown",
   "id": "af215a26-dfe0-4e2d-841d-4e08ebcff518",
   "metadata": {},
   "source": [
    "Quetion 7:\n",
    "State a character used to give a single line commnet in python?\n",
    "\n",
    "Answer:\n",
    "The character is '#'."
   ]
  },
  {
   "cell_type": "markdown",
   "id": "4078ab81-0917-4f60-881e-6d134396fae8",
   "metadata": {},
   "source": [
    "Quetion 8:\n",
    "Mention a function which we use to find the version of python that we are currently working on?\n",
    "\n",
    "Answer:\n",
    "The function sys. version can help us to find the version of python that we are currently working on. "
   ]
  },
  {
   "cell_type": "markdown",
   "id": "e0c46923-9269-4324-ae0b-b8111e150a58",
   "metadata": {},
   "source": [
    "Quetion 9:\n",
    "Python supports the creation of anonymous functions at runtime, using a construct called _____?\n",
    "\n",
    "Answer:\n",
    "lambda."
   ]
  },
  {
   "cell_type": "markdown",
   "id": "078344a8-0357-431d-8909-9e55ffe321f0",
   "metadata": {},
   "source": [
    "Quetion 10:\n",
    "what does pip stand for python\n",
    "\n",
    "Answer:\n",
    "pip stands for preferred installer program."
   ]
  },
  {
   "cell_type": "markdown",
   "id": "0bdee4ef-bb87-4cda-8bf7-f9cdbc9f7347",
   "metadata": {},
   "source": [
    "Quetion 11:\n",
    "Mention a few built in functions in Python?\n",
    "\n",
    "Answer:\n",
    "len()\n",
    "range()\n",
    "max()\n",
    "min()\n",
    "append()\n",
    "replace()"
   ]
  },
  {
   "cell_type": "markdown",
   "id": "a9e66955-7251-4a07-88c5-27738ebeb2f4",
   "metadata": {},
   "source": [
    "Quetion 12:\n",
    "What is the maximum possible length of an identifier in Python?\n",
    "\n",
    "Answer:\n",
    "An identifier can have a maximum length of 79 characters in Python."
   ]
  },
  {
   "cell_type": "markdown",
   "id": "433c2ce9-e2b0-453a-99cc-933ace41c378",
   "metadata": {},
   "source": [
    "Quetion 13:\n",
    "What are the benefits of using Python?\n",
    "\n",
    "Answer:\n",
    "1.We have to write less code.\n",
    "2.It supports OOPS concepts.\n",
    "3.It is a scripting language.\n",
    "4.It can be used in many fields like Data science, Big Data, Web development."
   ]
  },
  {
   "cell_type": "markdown",
   "id": "6b2a5f5d-5591-45c7-b776-a130754bc599",
   "metadata": {},
   "source": [
    "Quetion 14:\n",
    "How is memory managed in Python?\n",
    "\n",
    "Answer:\n",
    "There are two parts of memory:\n",
    "stack memory\n",
    "heap memory\n",
    "The methods/method calls and the references are stored in stack memory and all the values objects are stored in a private heap."
   ]
  },
  {
   "cell_type": "markdown",
   "id": "112349fa-7cd6-4dc9-a61e-b95dfca0f796",
   "metadata": {},
   "source": [
    "Quetion 15:\n",
    "How to install python on windows and set path variables?\n",
    "\n",
    "Answer:\n",
    "To install python we follow this:\n",
    "Open a browser to the Python website and download the Windows installer. \n",
    "2.Double click on the downloaded file and install Python for all users, and ensure that Python is added to your path. \n",
    "Click on Install now to begin\n",
    "\n",
    "To set path variables, we follow this:\n",
    "Press the Windows Key + R on your keyboard in order to open the Run dialog box\n",
    "Type sysdm.cpl to open the System Properties\n",
    "Go to the Advanced tab and then click on the ‘Environment Variables…"
   ]
  }
 ],
 "metadata": {
  "kernelspec": {
   "display_name": "Python 3 (ipykernel)",
   "language": "python",
   "name": "python3"
  },
  "language_info": {
   "codemirror_mode": {
    "name": "ipython",
    "version": 3
   },
   "file_extension": ".py",
   "mimetype": "text/x-python",
   "name": "python",
   "nbconvert_exporter": "python",
   "pygments_lexer": "ipython3",
   "version": "3.10.8"
  }
 },
 "nbformat": 4,
 "nbformat_minor": 5
}
